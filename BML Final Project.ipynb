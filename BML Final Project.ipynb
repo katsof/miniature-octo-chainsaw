{
 "cells": [
  {
   "cell_type": "markdown",
   "id": "174fc602",
   "metadata": {},
   "source": [
    "### Data Preprocessing"
   ]
  },
  {
   "cell_type": "code",
   "execution_count": 1,
   "id": "16dcd656",
   "metadata": {},
   "outputs": [],
   "source": [
    "# Import the libraries\n",
    "import numpy as np\n",
    "import matplotlib.pyplot as plt\n",
    "import pandas as pd\n",
    "from sklearn.preprocessing import StandardScaler, MinMaxScaler"
   ]
  },
  {
   "cell_type": "code",
   "execution_count": 2,
   "id": "d0b646f0",
   "metadata": {
    "scrolled": true
   },
   "outputs": [
    {
     "data": {
      "text/html": [
       "<div>\n",
       "<style scoped>\n",
       "    .dataframe tbody tr th:only-of-type {\n",
       "        vertical-align: middle;\n",
       "    }\n",
       "\n",
       "    .dataframe tbody tr th {\n",
       "        vertical-align: top;\n",
       "    }\n",
       "\n",
       "    .dataframe thead th {\n",
       "        text-align: right;\n",
       "    }\n",
       "</style>\n",
       "<table border=\"1\" class=\"dataframe\">\n",
       "  <thead>\n",
       "    <tr style=\"text-align: right;\">\n",
       "      <th></th>\n",
       "      <th>Date</th>\n",
       "      <th>Open</th>\n",
       "      <th>High</th>\n",
       "      <th>Low</th>\n",
       "      <th>Close</th>\n",
       "      <th>Adj Close</th>\n",
       "      <th>Volume</th>\n",
       "    </tr>\n",
       "  </thead>\n",
       "  <tbody>\n",
       "    <tr>\n",
       "      <th>0</th>\n",
       "      <td>2004-08-20</td>\n",
       "      <td>50.316402</td>\n",
       "      <td>54.336334</td>\n",
       "      <td>50.062355</td>\n",
       "      <td>53.952770</td>\n",
       "      <td>53.952770</td>\n",
       "      <td>22942874</td>\n",
       "    </tr>\n",
       "    <tr>\n",
       "      <th>1</th>\n",
       "      <td>2004-08-23</td>\n",
       "      <td>55.168217</td>\n",
       "      <td>56.528118</td>\n",
       "      <td>54.321388</td>\n",
       "      <td>54.495735</td>\n",
       "      <td>54.495735</td>\n",
       "      <td>18342897</td>\n",
       "    </tr>\n",
       "    <tr>\n",
       "      <th>2</th>\n",
       "      <td>2004-08-24</td>\n",
       "      <td>55.412300</td>\n",
       "      <td>55.591629</td>\n",
       "      <td>51.591621</td>\n",
       "      <td>52.239197</td>\n",
       "      <td>52.239197</td>\n",
       "      <td>15319808</td>\n",
       "    </tr>\n",
       "    <tr>\n",
       "      <th>3</th>\n",
       "      <td>2004-08-25</td>\n",
       "      <td>52.284027</td>\n",
       "      <td>53.798351</td>\n",
       "      <td>51.746044</td>\n",
       "      <td>52.802086</td>\n",
       "      <td>52.802086</td>\n",
       "      <td>9232276</td>\n",
       "    </tr>\n",
       "    <tr>\n",
       "      <th>4</th>\n",
       "      <td>2004-08-26</td>\n",
       "      <td>52.279045</td>\n",
       "      <td>53.773445</td>\n",
       "      <td>52.134586</td>\n",
       "      <td>53.753517</td>\n",
       "      <td>53.753517</td>\n",
       "      <td>7128620</td>\n",
       "    </tr>\n",
       "  </tbody>\n",
       "</table>\n",
       "</div>"
      ],
      "text/plain": [
       "         Date       Open       High        Low      Close  Adj Close    Volume\n",
       "0  2004-08-20  50.316402  54.336334  50.062355  53.952770  53.952770  22942874\n",
       "1  2004-08-23  55.168217  56.528118  54.321388  54.495735  54.495735  18342897\n",
       "2  2004-08-24  55.412300  55.591629  51.591621  52.239197  52.239197  15319808\n",
       "3  2004-08-25  52.284027  53.798351  51.746044  52.802086  52.802086   9232276\n",
       "4  2004-08-26  52.279045  53.773445  52.134586  53.753517  53.753517   7128620"
      ]
     },
     "execution_count": 2,
     "metadata": {},
     "output_type": "execute_result"
    }
   ],
   "source": [
    "# Import the dataset\n",
    "data = pd.read_csv('GOOG.csv', date_parser=True)\n",
    "data.head()"
   ]
  },
  {
   "cell_type": "code",
   "execution_count": 3,
   "id": "4f547546",
   "metadata": {},
   "outputs": [
    {
     "data": {
      "text/html": [
       "<div>\n",
       "<style scoped>\n",
       "    .dataframe tbody tr th:only-of-type {\n",
       "        vertical-align: middle;\n",
       "    }\n",
       "\n",
       "    .dataframe tbody tr th {\n",
       "        vertical-align: top;\n",
       "    }\n",
       "\n",
       "    .dataframe thead th {\n",
       "        text-align: right;\n",
       "    }\n",
       "</style>\n",
       "<table border=\"1\" class=\"dataframe\">\n",
       "  <thead>\n",
       "    <tr style=\"text-align: right;\">\n",
       "      <th></th>\n",
       "      <th>Date</th>\n",
       "      <th>Open</th>\n",
       "      <th>High</th>\n",
       "      <th>Low</th>\n",
       "      <th>Close</th>\n",
       "      <th>Adj Close</th>\n",
       "      <th>Volume</th>\n",
       "    </tr>\n",
       "  </thead>\n",
       "  <tbody>\n",
       "    <tr>\n",
       "      <th>0</th>\n",
       "      <td>2004-08-20</td>\n",
       "      <td>50.316402</td>\n",
       "      <td>54.336334</td>\n",
       "      <td>50.062355</td>\n",
       "      <td>53.952770</td>\n",
       "      <td>53.952770</td>\n",
       "      <td>22942874</td>\n",
       "    </tr>\n",
       "    <tr>\n",
       "      <th>1</th>\n",
       "      <td>2004-08-23</td>\n",
       "      <td>55.168217</td>\n",
       "      <td>56.528118</td>\n",
       "      <td>54.321388</td>\n",
       "      <td>54.495735</td>\n",
       "      <td>54.495735</td>\n",
       "      <td>18342897</td>\n",
       "    </tr>\n",
       "    <tr>\n",
       "      <th>2</th>\n",
       "      <td>2004-08-24</td>\n",
       "      <td>55.412300</td>\n",
       "      <td>55.591629</td>\n",
       "      <td>51.591621</td>\n",
       "      <td>52.239197</td>\n",
       "      <td>52.239197</td>\n",
       "      <td>15319808</td>\n",
       "    </tr>\n",
       "    <tr>\n",
       "      <th>3</th>\n",
       "      <td>2004-08-25</td>\n",
       "      <td>52.284027</td>\n",
       "      <td>53.798351</td>\n",
       "      <td>51.746044</td>\n",
       "      <td>52.802086</td>\n",
       "      <td>52.802086</td>\n",
       "      <td>9232276</td>\n",
       "    </tr>\n",
       "    <tr>\n",
       "      <th>4</th>\n",
       "      <td>2004-08-26</td>\n",
       "      <td>52.279045</td>\n",
       "      <td>53.773445</td>\n",
       "      <td>52.134586</td>\n",
       "      <td>53.753517</td>\n",
       "      <td>53.753517</td>\n",
       "      <td>7128620</td>\n",
       "    </tr>\n",
       "    <tr>\n",
       "      <th>...</th>\n",
       "      <td>...</td>\n",
       "      <td>...</td>\n",
       "      <td>...</td>\n",
       "      <td>...</td>\n",
       "      <td>...</td>\n",
       "      <td>...</td>\n",
       "      <td>...</td>\n",
       "    </tr>\n",
       "    <tr>\n",
       "      <th>3802</th>\n",
       "      <td>2019-09-27</td>\n",
       "      <td>1243.010010</td>\n",
       "      <td>1244.020020</td>\n",
       "      <td>1214.449951</td>\n",
       "      <td>1225.089966</td>\n",
       "      <td>1225.089966</td>\n",
       "      <td>1353900</td>\n",
       "    </tr>\n",
       "    <tr>\n",
       "      <th>3803</th>\n",
       "      <td>2019-09-30</td>\n",
       "      <td>1220.969971</td>\n",
       "      <td>1226.000000</td>\n",
       "      <td>1212.300049</td>\n",
       "      <td>1219.000000</td>\n",
       "      <td>1219.000000</td>\n",
       "      <td>1404100</td>\n",
       "    </tr>\n",
       "    <tr>\n",
       "      <th>3804</th>\n",
       "      <td>2019-10-01</td>\n",
       "      <td>1219.000000</td>\n",
       "      <td>1231.229980</td>\n",
       "      <td>1203.579956</td>\n",
       "      <td>1205.099976</td>\n",
       "      <td>1205.099976</td>\n",
       "      <td>1273500</td>\n",
       "    </tr>\n",
       "    <tr>\n",
       "      <th>3805</th>\n",
       "      <td>2019-10-02</td>\n",
       "      <td>1196.979980</td>\n",
       "      <td>1196.979980</td>\n",
       "      <td>1171.290039</td>\n",
       "      <td>1176.630005</td>\n",
       "      <td>1176.630005</td>\n",
       "      <td>1615100</td>\n",
       "    </tr>\n",
       "    <tr>\n",
       "      <th>3806</th>\n",
       "      <td>2019-10-03</td>\n",
       "      <td>1180.000000</td>\n",
       "      <td>1189.060059</td>\n",
       "      <td>1162.430054</td>\n",
       "      <td>1187.829956</td>\n",
       "      <td>1187.829956</td>\n",
       "      <td>1621200</td>\n",
       "    </tr>\n",
       "  </tbody>\n",
       "</table>\n",
       "<p>3807 rows × 7 columns</p>\n",
       "</div>"
      ],
      "text/plain": [
       "            Date         Open         High          Low        Close  \\\n",
       "0     2004-08-20    50.316402    54.336334    50.062355    53.952770   \n",
       "1     2004-08-23    55.168217    56.528118    54.321388    54.495735   \n",
       "2     2004-08-24    55.412300    55.591629    51.591621    52.239197   \n",
       "3     2004-08-25    52.284027    53.798351    51.746044    52.802086   \n",
       "4     2004-08-26    52.279045    53.773445    52.134586    53.753517   \n",
       "...          ...          ...          ...          ...          ...   \n",
       "3802  2019-09-27  1243.010010  1244.020020  1214.449951  1225.089966   \n",
       "3803  2019-09-30  1220.969971  1226.000000  1212.300049  1219.000000   \n",
       "3804  2019-10-01  1219.000000  1231.229980  1203.579956  1205.099976   \n",
       "3805  2019-10-02  1196.979980  1196.979980  1171.290039  1176.630005   \n",
       "3806  2019-10-03  1180.000000  1189.060059  1162.430054  1187.829956   \n",
       "\n",
       "        Adj Close    Volume  \n",
       "0       53.952770  22942874  \n",
       "1       54.495735  18342897  \n",
       "2       52.239197  15319808  \n",
       "3       52.802086   9232276  \n",
       "4       53.753517   7128620  \n",
       "...           ...       ...  \n",
       "3802  1225.089966   1353900  \n",
       "3803  1219.000000   1404100  \n",
       "3804  1205.099976   1273500  \n",
       "3805  1176.630005   1615100  \n",
       "3806  1187.829956   1621200  \n",
       "\n",
       "[3807 rows x 7 columns]"
      ]
     },
     "execution_count": 3,
     "metadata": {},
     "output_type": "execute_result"
    }
   ],
   "source": [
    "data_training = data[data['Date']<'2019_01_01'].copy()\n",
    "data_training"
   ]
  },
  {
   "cell_type": "code",
   "execution_count": 33,
   "id": "963bcfb9",
   "metadata": {},
   "outputs": [
    {
     "data": {
      "image/png": "[encoded data removed]",
      "text/plain": [
       "<Figure size 720x432 with 1 Axes>"
      ]
     },
     "metadata": {
      "needs_background": "light"
     },
     "output_type": "display_data"
    }
   ],
   "source": [
    "plt.figure(figsize=(10, 6))\n",
    "plt.plot(data_training['Open'], color = 'red', label = 'Stock Open Price')\n",
    "plt.title(\"Google Stock Prices\")\n",
    "plt.xlabel(\"Time (oldest -> latest)\")\n",
    "plt.ylabel(\"Stock Open Price\")\n",
    "plt.legend()\n",
    "plt.show()"
   ]
  },
  {
   "cell_type": "code",
   "execution_count": 5,
   "id": "2ac971b2",
   "metadata": {
    "scrolled": true
   },
   "outputs": [
    {
     "data": {
      "text/html": [
       "<div>\n",
       "<style scoped>\n",
       "    .dataframe tbody tr th:only-of-type {\n",
       "        vertical-align: middle;\n",
       "    }\n",
       "\n",
       "    .dataframe tbody tr th {\n",
       "        vertical-align: top;\n",
       "    }\n",
       "\n",
       "    .dataframe thead th {\n",
       "        text-align: right;\n",
       "    }\n",
       "</style>\n",
       "<table border=\"1\" class=\"dataframe\">\n",
       "  <thead>\n",
       "    <tr style=\"text-align: right;\">\n",
       "      <th></th>\n",
       "      <th>Date</th>\n",
       "      <th>Open</th>\n",
       "      <th>High</th>\n",
       "      <th>Low</th>\n",
       "      <th>Close</th>\n",
       "      <th>Adj Close</th>\n",
       "      <th>Volume</th>\n",
       "    </tr>\n",
       "  </thead>\n",
       "  <tbody>\n",
       "    <tr>\n",
       "      <th>3616</th>\n",
       "      <td>2019-01-02</td>\n",
       "      <td>1016.570007</td>\n",
       "      <td>1052.319946</td>\n",
       "      <td>1015.710022</td>\n",
       "      <td>1045.849976</td>\n",
       "      <td>1045.849976</td>\n",
       "      <td>1532600</td>\n",
       "    </tr>\n",
       "    <tr>\n",
       "      <th>3617</th>\n",
       "      <td>2019-01-03</td>\n",
       "      <td>1041.000000</td>\n",
       "      <td>1056.979980</td>\n",
       "      <td>1014.070007</td>\n",
       "      <td>1016.059998</td>\n",
       "      <td>1016.059998</td>\n",
       "      <td>1841100</td>\n",
       "    </tr>\n",
       "    <tr>\n",
       "      <th>3618</th>\n",
       "      <td>2019-01-04</td>\n",
       "      <td>1032.589966</td>\n",
       "      <td>1070.839966</td>\n",
       "      <td>1027.417969</td>\n",
       "      <td>1070.709961</td>\n",
       "      <td>1070.709961</td>\n",
       "      <td>2093900</td>\n",
       "    </tr>\n",
       "    <tr>\n",
       "      <th>3619</th>\n",
       "      <td>2019-01-07</td>\n",
       "      <td>1071.500000</td>\n",
       "      <td>1074.000000</td>\n",
       "      <td>1054.760010</td>\n",
       "      <td>1068.390015</td>\n",
       "      <td>1068.390015</td>\n",
       "      <td>1981900</td>\n",
       "    </tr>\n",
       "    <tr>\n",
       "      <th>3620</th>\n",
       "      <td>2019-01-08</td>\n",
       "      <td>1076.109985</td>\n",
       "      <td>1084.560059</td>\n",
       "      <td>1060.530029</td>\n",
       "      <td>1076.280029</td>\n",
       "      <td>1076.280029</td>\n",
       "      <td>1764900</td>\n",
       "    </tr>\n",
       "    <tr>\n",
       "      <th>...</th>\n",
       "      <td>...</td>\n",
       "      <td>...</td>\n",
       "      <td>...</td>\n",
       "      <td>...</td>\n",
       "      <td>...</td>\n",
       "      <td>...</td>\n",
       "      <td>...</td>\n",
       "    </tr>\n",
       "    <tr>\n",
       "      <th>3802</th>\n",
       "      <td>2019-09-27</td>\n",
       "      <td>1243.010010</td>\n",
       "      <td>1244.020020</td>\n",
       "      <td>1214.449951</td>\n",
       "      <td>1225.089966</td>\n",
       "      <td>1225.089966</td>\n",
       "      <td>1353900</td>\n",
       "    </tr>\n",
       "    <tr>\n",
       "      <th>3803</th>\n",
       "      <td>2019-09-30</td>\n",
       "      <td>1220.969971</td>\n",
       "      <td>1226.000000</td>\n",
       "      <td>1212.300049</td>\n",
       "      <td>1219.000000</td>\n",
       "      <td>1219.000000</td>\n",
       "      <td>1404100</td>\n",
       "    </tr>\n",
       "    <tr>\n",
       "      <th>3804</th>\n",
       "      <td>2019-10-01</td>\n",
       "      <td>1219.000000</td>\n",
       "      <td>1231.229980</td>\n",
       "      <td>1203.579956</td>\n",
       "      <td>1205.099976</td>\n",
       "      <td>1205.099976</td>\n",
       "      <td>1273500</td>\n",
       "    </tr>\n",
       "    <tr>\n",
       "      <th>3805</th>\n",
       "      <td>2019-10-02</td>\n",
       "      <td>1196.979980</td>\n",
       "      <td>1196.979980</td>\n",
       "      <td>1171.290039</td>\n",
       "      <td>1176.630005</td>\n",
       "      <td>1176.630005</td>\n",
       "      <td>1615100</td>\n",
       "    </tr>\n",
       "    <tr>\n",
       "      <th>3806</th>\n",
       "      <td>2019-10-03</td>\n",
       "      <td>1180.000000</td>\n",
       "      <td>1189.060059</td>\n",
       "      <td>1162.430054</td>\n",
       "      <td>1187.829956</td>\n",
       "      <td>1187.829956</td>\n",
       "      <td>1621200</td>\n",
       "    </tr>\n",
       "  </tbody>\n",
       "</table>\n",
       "<p>191 rows × 7 columns</p>\n",
       "</div>"
      ],
      "text/plain": [
       "            Date         Open         High          Low        Close  \\\n",
       "3616  2019-01-02  1016.570007  1052.319946  1015.710022  1045.849976   \n",
       "3617  2019-01-03  1041.000000  1056.979980  1014.070007  1016.059998   \n",
       "3618  2019-01-04  1032.589966  1070.839966  1027.417969  1070.709961   \n",
       "3619  2019-01-07  1071.500000  1074.000000  1054.760010  1068.390015   \n",
       "3620  2019-01-08  1076.109985  1084.560059  1060.530029  1076.280029   \n",
       "...          ...          ...          ...          ...          ...   \n",
       "3802  2019-09-27  1243.010010  1244.020020  1214.449951  1225.089966   \n",
       "3803  2019-09-30  1220.969971  1226.000000  1212.300049  1219.000000   \n",
       "3804  2019-10-01  1219.000000  1231.229980  1203.579956  1205.099976   \n",
       "3805  2019-10-02  1196.979980  1196.979980  1171.290039  1176.630005   \n",
       "3806  2019-10-03  1180.000000  1189.060059  1162.430054  1187.829956   \n",
       "\n",
       "        Adj Close   Volume  \n",
       "3616  1045.849976  1532600  \n",
       "3617  1016.059998  1841100  \n",
       "3618  1070.709961  2093900  \n",
       "3619  1068.390015  1981900  \n",
       "3620  1076.280029  1764900  \n",
       "...           ...      ...  \n",
       "3802  1225.089966  1353900  \n",
       "3803  1219.000000  1404100  \n",
       "3804  1205.099976  1273500  \n",
       "3805  1176.630005  1615100  \n",
       "3806  1187.829956  1621200  \n",
       "\n",
       "[191 rows x 7 columns]"
      ]
     },
     "execution_count": 5,
     "metadata": {},
     "output_type": "execute_result"
    }
   ],
   "source": [
    "data_test = data[data['Date']>= '2019-01-01'].copy()\n",
    "data_test"
   ]
  },
  {
   "cell_type": "code",
   "execution_count": 6,
   "id": "763e0221",
   "metadata": {},
   "outputs": [
    {
     "data": {
      "text/html": [
       "<div>\n",
       "<style scoped>\n",
       "    .dataframe tbody tr th:only-of-type {\n",
       "        vertical-align: middle;\n",
       "    }\n",
       "\n",
       "    .dataframe tbody tr th {\n",
       "        vertical-align: top;\n",
       "    }\n",
       "\n",
       "    .dataframe thead th {\n",
       "        text-align: right;\n",
       "    }\n",
       "</style>\n",
       "<table border=\"1\" class=\"dataframe\">\n",
       "  <thead>\n",
       "    <tr style=\"text-align: right;\">\n",
       "      <th></th>\n",
       "      <th>Open</th>\n",
       "      <th>High</th>\n",
       "      <th>Low</th>\n",
       "      <th>Close</th>\n",
       "      <th>Volume</th>\n",
       "    </tr>\n",
       "  </thead>\n",
       "  <tbody>\n",
       "    <tr>\n",
       "      <th>0</th>\n",
       "      <td>50.316402</td>\n",
       "      <td>54.336334</td>\n",
       "      <td>50.062355</td>\n",
       "      <td>53.952770</td>\n",
       "      <td>22942874</td>\n",
       "    </tr>\n",
       "    <tr>\n",
       "      <th>1</th>\n",
       "      <td>55.168217</td>\n",
       "      <td>56.528118</td>\n",
       "      <td>54.321388</td>\n",
       "      <td>54.495735</td>\n",
       "      <td>18342897</td>\n",
       "    </tr>\n",
       "    <tr>\n",
       "      <th>2</th>\n",
       "      <td>55.412300</td>\n",
       "      <td>55.591629</td>\n",
       "      <td>51.591621</td>\n",
       "      <td>52.239197</td>\n",
       "      <td>15319808</td>\n",
       "    </tr>\n",
       "    <tr>\n",
       "      <th>3</th>\n",
       "      <td>52.284027</td>\n",
       "      <td>53.798351</td>\n",
       "      <td>51.746044</td>\n",
       "      <td>52.802086</td>\n",
       "      <td>9232276</td>\n",
       "    </tr>\n",
       "    <tr>\n",
       "      <th>4</th>\n",
       "      <td>52.279045</td>\n",
       "      <td>53.773445</td>\n",
       "      <td>52.134586</td>\n",
       "      <td>53.753517</td>\n",
       "      <td>7128620</td>\n",
       "    </tr>\n",
       "  </tbody>\n",
       "</table>\n",
       "</div>"
      ],
      "text/plain": [
       "        Open       High        Low      Close    Volume\n",
       "0  50.316402  54.336334  50.062355  53.952770  22942874\n",
       "1  55.168217  56.528118  54.321388  54.495735  18342897\n",
       "2  55.412300  55.591629  51.591621  52.239197  15319808\n",
       "3  52.284027  53.798351  51.746044  52.802086   9232276\n",
       "4  52.279045  53.773445  52.134586  53.753517   7128620"
      ]
     },
     "execution_count": 6,
     "metadata": {},
     "output_type": "execute_result"
    }
   ],
   "source": [
    "training_data = data_training.drop(['Date','Adj Close'],axis = 1)\n",
    "training_data.head()                                    "
   ]
  },
  {
   "cell_type": "code",
   "execution_count": 7,
   "id": "ff1ddf62",
   "metadata": {},
   "outputs": [
    {
     "data": {
      "text/plain": [
       "array([[7.40330113e-04, 2.95198254e-03, 6.38522397e-04, 3.34030536e-03,\n",
       "        2.77885876e-01],\n",
       "       [4.70232083e-03, 4.72156249e-03, 4.13811055e-03, 3.77897219e-03,\n",
       "        2.22151352e-01],\n",
       "       [4.90163894e-03, 3.96546966e-03, 1.89509899e-03, 1.95589266e-03,\n",
       "        1.85522815e-01],\n",
       "       ...,\n",
       "       [9.55087016e-01, 9.53140231e-01, 9.48467885e-01, 9.33363602e-01,\n",
       "        1.53340740e-02],\n",
       "       [9.37105474e-01, 9.25487820e-01, 9.21935709e-01, 9.10362429e-01,\n",
       "        1.94729889e-02],\n",
       "       [9.23239627e-01, 9.19093516e-01, 9.14655583e-01, 9.19410981e-01,\n",
       "        1.95468981e-02]])"
      ]
     },
     "execution_count": 7,
     "metadata": {},
     "output_type": "execute_result"
    }
   ],
   "source": [
    "scaler = MinMaxScaler()\n",
    "training_data = scaler.fit_transform(training_data)\n",
    "training_data"
   ]
  },
  {
   "cell_type": "code",
   "execution_count": 8,
   "id": "7bae8a31",
   "metadata": {},
   "outputs": [],
   "source": [
    "X_train = []\n",
    "y_train = []"
   ]
  },
  {
   "cell_type": "code",
   "execution_count": 9,
   "id": "c1829126",
   "metadata": {},
   "outputs": [
    {
     "data": {
      "text/plain": [
       "3807"
      ]
     },
     "execution_count": 9,
     "metadata": {},
     "output_type": "execute_result"
    }
   ],
   "source": [
    "training_data.shape [0]"
   ]
  },
  {
   "cell_type": "code",
   "execution_count": 10,
   "id": "11a70173",
   "metadata": {},
   "outputs": [],
   "source": [
    "for i in range (60, training_data.shape[0]):\n",
    "    X_train.append(training_data[i-60:i])\n",
    "    y_train.append(training_data[i,0])"
   ]
  },
  {
   "cell_type": "code",
   "execution_count": 11,
   "id": "04e311a3",
   "metadata": {},
   "outputs": [],
   "source": [
    "X_train, y_train = np.array (X_train), np.array(y_train)"
   ]
  },
  {
   "cell_type": "code",
   "execution_count": 12,
   "id": "41b185d4",
   "metadata": {},
   "outputs": [
    {
     "data": {
      "text/plain": [
       "((3747, 60, 5), (3747,))"
      ]
     },
     "execution_count": 12,
     "metadata": {},
     "output_type": "execute_result"
    }
   ],
   "source": [
    "X_train.shape, y_train.shape"
   ]
  },
  {
   "cell_type": "markdown",
   "id": "8cbd9364",
   "metadata": {},
   "source": [
    "### Building LSTM"
   ]
  },
  {
   "cell_type": "code",
   "execution_count": 13,
   "id": "07e8f24b",
   "metadata": {},
   "outputs": [],
   "source": [
    "# Import the libraries\n",
    "from tensorflow.keras import Sequential\n",
    "from tensorflow.keras.layers import Dense, LSTM, Dropout"
   ]
  },
  {
   "cell_type": "code",
   "execution_count": 15,
   "id": "858f385a",
   "metadata": {},
   "outputs": [],
   "source": [
    "# Initialise the LSTM\n",
    "regressor = Sequential()\n",
    "\n",
    "# Add 4 LSTM layer and some Dropout regularisation\n",
    "regressor.add(LSTM( units = 60, return_sequences = True, input_shape = (X_train.shape[1],5)))\n",
    "regressor.add(Dropout(0.2))\n",
    "\n",
    "regressor.add(LSTM(units = 60, activation = 'relu', return_sequences = True))\n",
    "regressor.add(Dropout(0.2))\n",
    "\n",
    "regressor.add(LSTM(units = 80, activation = 'relu', return_sequences = True))\n",
    "regressor.add(Dropout(0.2))\n",
    "\n",
    "regressor.add(LSTM(units = 120, activation = 'relu'))\n",
    "regressor.add(Dropout(0.2))\n",
    "\n",
    "# Add the output layer\n",
    "regressor.add(Dense(units = 1))"
   ]
  },
  {
   "cell_type": "code",
   "execution_count": 16,
   "id": "dc614ba1",
   "metadata": {},
   "outputs": [
    {
     "name": "stdout",
     "output_type": "stream",
     "text": [
      "Model: \"sequential_1\"\n",
      "_________________________________________________________________\n",
      " Layer (type)                Output Shape              Param #   \n",
      "=================================================================\n",
      " lstm_4 (LSTM)               (None, 60, 60)            15840     \n",
      "                                                                 \n",
      " dropout_4 (Dropout)         (None, 60, 60)            0         \n",
      "                                                                 \n",
      " lstm_5 (LSTM)               (None, 60, 60)            29040     \n",
      "                                                                 \n",
      " dropout_5 (Dropout)         (None, 60, 60)            0         \n",
      "                                                                 \n",
      " lstm_6 (LSTM)               (None, 60, 80)            45120     \n",
      "                                                                 \n",
      " dropout_6 (Dropout)         (None, 60, 80)            0         \n",
      "                                                                 \n",
      " lstm_7 (LSTM)               (None, 120)               96480     \n",
      "                                                                 \n",
      " dropout_7 (Dropout)         (None, 120)               0         \n",
      "                                                                 \n",
      " dense_1 (Dense)             (None, 1)                 121       \n",
      "                                                                 \n",
      "=================================================================\n",
      "Total params: 186,601\n",
      "Trainable params: 186,601\n",
      "Non-trainable params: 0\n",
      "_________________________________________________________________\n"
     ]
    }
   ],
   "source": [
    "regressor.summary()"
   ]
  },
  {
   "cell_type": "code",
   "execution_count": 17,
   "id": "637e4686",
   "metadata": {},
   "outputs": [
    {
     "name": "stdout",
     "output_type": "stream",
     "text": [
      "Epoch 1/50\n",
      "118/118 [==============================] - 17s 102ms/step - loss: 0.0148\n",
      "Epoch 2/50\n",
      "118/118 [==============================] - 13s 108ms/step - loss: 0.0028\n",
      "Epoch 3/50\n",
      "118/118 [==============================] - 12s 104ms/step - loss: 0.0021\n",
      "Epoch 4/50\n",
      "118/118 [==============================] - 12s 99ms/step - loss: 0.0025\n",
      "Epoch 5/50\n",
      "118/118 [==============================] - 12s 98ms/step - loss: 0.0019\n",
      "Epoch 6/50\n",
      "118/118 [==============================] - 12s 100ms/step - loss: 0.0015\n",
      "Epoch 7/50\n",
      "118/118 [==============================] - 12s 100ms/step - loss: 0.0017\n",
      "Epoch 8/50\n",
      "118/118 [==============================] - 12s 100ms/step - loss: 0.0017\n",
      "Epoch 9/50\n",
      "118/118 [==============================] - 12s 99ms/step - loss: 0.0014\n",
      "Epoch 10/50\n",
      "118/118 [==============================] - 12s 101ms/step - loss: 0.0015\n",
      "Epoch 11/50\n",
      "118/118 [==============================] - 12s 101ms/step - loss: 0.0013\n",
      "Epoch 12/50\n",
      "118/118 [==============================] - 12s 101ms/step - loss: 0.0012\n",
      "Epoch 13/50\n",
      "118/118 [==============================] - 12s 100ms/step - loss: 0.0013\n",
      "Epoch 14/50\n",
      "118/118 [==============================] - 12s 99ms/step - loss: 0.0012\n",
      "Epoch 15/50\n",
      "118/118 [==============================] - 12s 101ms/step - loss: 0.0010\n",
      "Epoch 16/50\n",
      "118/118 [==============================] - 12s 102ms/step - loss: 0.0012\n",
      "Epoch 17/50\n",
      "118/118 [==============================] - 12s 103ms/step - loss: 0.0012\n",
      "Epoch 18/50\n",
      "118/118 [==============================] - 12s 102ms/step - loss: 0.0011\n",
      "Epoch 19/50\n",
      "118/118 [==============================] - 12s 103ms/step - loss: 0.0012\n",
      "Epoch 20/50\n",
      "118/118 [==============================] - 12s 104ms/step - loss: 0.0011\n",
      "Epoch 21/50\n",
      "118/118 [==============================] - 12s 100ms/step - loss: 8.7548e-04\n",
      "Epoch 22/50\n",
      "118/118 [==============================] - 12s 102ms/step - loss: 0.0012\n",
      "Epoch 23/50\n",
      "118/118 [==============================] - 12s 102ms/step - loss: 9.5947e-04\n",
      "Epoch 24/50\n",
      "118/118 [==============================] - 12s 101ms/step - loss: 0.0011\n",
      "Epoch 25/50\n",
      "118/118 [==============================] - 12s 103ms/step - loss: 9.3796e-04\n",
      "Epoch 26/50\n",
      "118/118 [==============================] - 12s 105ms/step - loss: 9.4615e-04\n",
      "Epoch 27/50\n",
      "118/118 [==============================] - 13s 107ms/step - loss: 8.7582e-04\n",
      "Epoch 28/50\n",
      "118/118 [==============================] - 12s 105ms/step - loss: 9.2723e-04\n",
      "Epoch 29/50\n",
      "118/118 [==============================] - 12s 104ms/step - loss: 9.2798e-04\n",
      "Epoch 30/50\n",
      "118/118 [==============================] - 12s 105ms/step - loss: 8.4816e-04\n",
      "Epoch 31/50\n",
      "118/118 [==============================] - 12s 105ms/step - loss: 7.7041e-04\n",
      "Epoch 32/50\n",
      "118/118 [==============================] - 12s 105ms/step - loss: 8.8619e-04\n",
      "Epoch 33/50\n",
      "118/118 [==============================] - 12s 106ms/step - loss: 8.3693e-04\n",
      "Epoch 34/50\n",
      "118/118 [==============================] - 12s 104ms/step - loss: 7.5760e-04\n",
      "Epoch 35/50\n",
      "118/118 [==============================] - 12s 105ms/step - loss: 7.6873e-04\n",
      "Epoch 36/50\n",
      "118/118 [==============================] - 13s 107ms/step - loss: 7.5605e-04\n",
      "Epoch 37/50\n",
      "118/118 [==============================] - 13s 106ms/step - loss: 7.6412e-04\n",
      "Epoch 38/50\n",
      "118/118 [==============================] - 14s 115ms/step - loss: 8.0505e-04\n",
      "Epoch 39/50\n",
      "118/118 [==============================] - 13s 113ms/step - loss: 7.6391e-04\n",
      "Epoch 40/50\n",
      "118/118 [==============================] - 13s 106ms/step - loss: 7.2225e-04\n",
      "Epoch 41/50\n",
      "118/118 [==============================] - 12s 105ms/step - loss: 7.4138e-04\n",
      "Epoch 42/50\n",
      "118/118 [==============================] - 13s 107ms/step - loss: 6.7996e-04\n",
      "Epoch 43/50\n",
      "118/118 [==============================] - 12s 106ms/step - loss: 7.2214e-04\n",
      "Epoch 44/50\n",
      "118/118 [==============================] - 13s 106ms/step - loss: 7.8991e-04\n",
      "Epoch 45/50\n",
      "118/118 [==============================] - 13s 107ms/step - loss: 7.1013e-04\n",
      "Epoch 46/50\n",
      "118/118 [==============================] - 13s 110ms/step - loss: 8.5475e-04\n",
      "Epoch 47/50\n",
      "118/118 [==============================] - 13s 108ms/step - loss: 6.9197e-04\n",
      "Epoch 48/50\n",
      "118/118 [==============================] - 13s 106ms/step - loss: 7.9271e-04\n",
      "Epoch 49/50\n",
      "118/118 [==============================] - 13s 108ms/step - loss: 6.5799e-04\n",
      "Epoch 50/50\n",
      "118/118 [==============================] - 13s 111ms/step - loss: 6.9895e-04\n"
     ]
    }
   ],
   "source": [
    "# Compile the LSTM\n",
    "regressor.compile(optimizer = 'adam', loss = 'mean_squared_error')\n",
    "\n",
    "# Fit the LSTM to the Training set\n",
    "history = regressor.fit(X_train, y_train, epochs = 50, batch_size = 32)\n",
    "#history = model1.fit(train_x, train_y,validation_split = 0.1, epochs=50, batch_size=4)"
   ]
  },
  {
   "cell_type": "code",
   "execution_count": 18,
   "id": "e9fd79ef",
   "metadata": {},
   "outputs": [
    {
     "data": {
      "image/png": "[encoded data removed]",
      "text/plain": [
       "<Figure size 720x504 with 1 Axes>"
      ]
     },
     "metadata": {
      "needs_background": "light"
     },
     "output_type": "display_data"
    }
   ],
   "source": [
    "plt.figure(figsize =(10,7))\n",
    "plt.plot(history.history[\"loss\"])\n",
    "plt.xlabel(\"Epochs\")\n",
    "plt.ylabel(\"Losses\")\n",
    "plt.title(\"LSTM model, Loss vs Epoch\")\n",
    "plt.show()"
   ]
  },
  {
   "cell_type": "markdown",
   "id": "384a21c6",
   "metadata": {},
   "source": [
    "### Prepare Test Dataset"
   ]
  },
  {
   "cell_type": "code",
   "execution_count": 19,
   "id": "7ee0734a",
   "metadata": {},
   "outputs": [
    {
     "data": {
      "text/html": [
       "<div>\n",
       "<style scoped>\n",
       "    .dataframe tbody tr th:only-of-type {\n",
       "        vertical-align: middle;\n",
       "    }\n",
       "\n",
       "    .dataframe tbody tr th {\n",
       "        vertical-align: top;\n",
       "    }\n",
       "\n",
       "    .dataframe thead th {\n",
       "        text-align: right;\n",
       "    }\n",
       "</style>\n",
       "<table border=\"1\" class=\"dataframe\">\n",
       "  <thead>\n",
       "    <tr style=\"text-align: right;\">\n",
       "      <th></th>\n",
       "      <th>Date</th>\n",
       "      <th>Open</th>\n",
       "      <th>High</th>\n",
       "      <th>Low</th>\n",
       "      <th>Close</th>\n",
       "      <th>Adj Close</th>\n",
       "      <th>Volume</th>\n",
       "    </tr>\n",
       "  </thead>\n",
       "  <tbody>\n",
       "    <tr>\n",
       "      <th>0</th>\n",
       "      <td>2004-08-20</td>\n",
       "      <td>50.316402</td>\n",
       "      <td>54.336334</td>\n",
       "      <td>50.062355</td>\n",
       "      <td>53.952770</td>\n",
       "      <td>53.952770</td>\n",
       "      <td>22942874</td>\n",
       "    </tr>\n",
       "    <tr>\n",
       "      <th>1</th>\n",
       "      <td>2004-08-23</td>\n",
       "      <td>55.168217</td>\n",
       "      <td>56.528118</td>\n",
       "      <td>54.321388</td>\n",
       "      <td>54.495735</td>\n",
       "      <td>54.495735</td>\n",
       "      <td>18342897</td>\n",
       "    </tr>\n",
       "    <tr>\n",
       "      <th>2</th>\n",
       "      <td>2004-08-24</td>\n",
       "      <td>55.412300</td>\n",
       "      <td>55.591629</td>\n",
       "      <td>51.591621</td>\n",
       "      <td>52.239197</td>\n",
       "      <td>52.239197</td>\n",
       "      <td>15319808</td>\n",
       "    </tr>\n",
       "    <tr>\n",
       "      <th>3</th>\n",
       "      <td>2004-08-25</td>\n",
       "      <td>52.284027</td>\n",
       "      <td>53.798351</td>\n",
       "      <td>51.746044</td>\n",
       "      <td>52.802086</td>\n",
       "      <td>52.802086</td>\n",
       "      <td>9232276</td>\n",
       "    </tr>\n",
       "    <tr>\n",
       "      <th>4</th>\n",
       "      <td>2004-08-26</td>\n",
       "      <td>52.279045</td>\n",
       "      <td>53.773445</td>\n",
       "      <td>52.134586</td>\n",
       "      <td>53.753517</td>\n",
       "      <td>53.753517</td>\n",
       "      <td>7128620</td>\n",
       "    </tr>\n",
       "  </tbody>\n",
       "</table>\n",
       "</div>"
      ],
      "text/plain": [
       "         Date       Open       High        Low      Close  Adj Close    Volume\n",
       "0  2004-08-20  50.316402  54.336334  50.062355  53.952770  53.952770  22942874\n",
       "1  2004-08-23  55.168217  56.528118  54.321388  54.495735  54.495735  18342897\n",
       "2  2004-08-24  55.412300  55.591629  51.591621  52.239197  52.239197  15319808\n",
       "3  2004-08-25  52.284027  53.798351  51.746044  52.802086  52.802086   9232276\n",
       "4  2004-08-26  52.279045  53.773445  52.134586  53.753517  53.753517   7128620"
      ]
     },
     "execution_count": 19,
     "metadata": {},
     "output_type": "execute_result"
    }
   ],
   "source": [
    "data.head()"
   ]
  },
  {
   "cell_type": "code",
   "execution_count": 20,
   "id": "8c69a2f3",
   "metadata": {},
   "outputs": [],
   "source": [
    "past_60_days = data_training.tail(60)"
   ]
  },
  {
   "cell_type": "code",
   "execution_count": 21,
   "id": "857dcc2d",
   "metadata": {},
   "outputs": [
    {
     "data": {
      "text/html": [
       "<div>\n",
       "<style scoped>\n",
       "    .dataframe tbody tr th:only-of-type {\n",
       "        vertical-align: middle;\n",
       "    }\n",
       "\n",
       "    .dataframe tbody tr th {\n",
       "        vertical-align: top;\n",
       "    }\n",
       "\n",
       "    .dataframe thead th {\n",
       "        text-align: right;\n",
       "    }\n",
       "</style>\n",
       "<table border=\"1\" class=\"dataframe\">\n",
       "  <thead>\n",
       "    <tr style=\"text-align: right;\">\n",
       "      <th></th>\n",
       "      <th>Open</th>\n",
       "      <th>High</th>\n",
       "      <th>Low</th>\n",
       "      <th>Close</th>\n",
       "      <th>Volume</th>\n",
       "    </tr>\n",
       "  </thead>\n",
       "  <tbody>\n",
       "    <tr>\n",
       "      <th>0</th>\n",
       "      <td>1143.250000</td>\n",
       "      <td>1153.069946</td>\n",
       "      <td>1139.579956</td>\n",
       "      <td>1144.209961</td>\n",
       "      <td>1195500</td>\n",
       "    </tr>\n",
       "    <tr>\n",
       "      <th>1</th>\n",
       "      <td>1143.989990</td>\n",
       "      <td>1147.339966</td>\n",
       "      <td>1138.780029</td>\n",
       "      <td>1144.900024</td>\n",
       "      <td>864000</td>\n",
       "    </tr>\n",
       "    <tr>\n",
       "      <th>2</th>\n",
       "      <td>1146.859985</td>\n",
       "      <td>1150.819946</td>\n",
       "      <td>1139.400024</td>\n",
       "      <td>1150.339966</td>\n",
       "      <td>903800</td>\n",
       "    </tr>\n",
       "    <tr>\n",
       "      <th>3</th>\n",
       "      <td>1146.000000</td>\n",
       "      <td>1158.579956</td>\n",
       "      <td>1145.000000</td>\n",
       "      <td>1153.579956</td>\n",
       "      <td>1238800</td>\n",
       "    </tr>\n",
       "    <tr>\n",
       "      <th>4</th>\n",
       "      <td>1150.969971</td>\n",
       "      <td>1158.359985</td>\n",
       "      <td>1145.770020</td>\n",
       "      <td>1146.349976</td>\n",
       "      <td>1170000</td>\n",
       "    </tr>\n",
       "  </tbody>\n",
       "</table>\n",
       "</div>"
      ],
      "text/plain": [
       "          Open         High          Low        Close   Volume\n",
       "0  1143.250000  1153.069946  1139.579956  1144.209961  1195500\n",
       "1  1143.989990  1147.339966  1138.780029  1144.900024   864000\n",
       "2  1146.859985  1150.819946  1139.400024  1150.339966   903800\n",
       "3  1146.000000  1158.579956  1145.000000  1153.579956  1238800\n",
       "4  1150.969971  1158.359985  1145.770020  1146.349976  1170000"
      ]
     },
     "execution_count": 21,
     "metadata": {},
     "output_type": "execute_result"
    }
   ],
   "source": [
    "df= past_60_days.append(data_test, ignore_index=True)\n",
    "df=df.drop(['Date','Adj Close'], axis=1)\n",
    "df.head()"
   ]
  },
  {
   "cell_type": "code",
   "execution_count": 22,
   "id": "ddec541c",
   "metadata": {},
   "outputs": [
    {
     "data": {
      "text/plain": [
       "array([[0.89322959, 0.89003619, 0.89587998, 0.88416995, 0.01438901],\n",
       "       [0.89383386, 0.88540998, 0.89522269, 0.88472746, 0.01037246],\n",
       "       [0.8961775 , 0.88821961, 0.89573213, 0.88912244, 0.01085469],\n",
       "       ...,\n",
       "       [0.95508702, 0.95314023, 0.94846788, 0.9333636 , 0.01533407],\n",
       "       [0.93710547, 0.92548782, 0.92193571, 0.91036243, 0.01947299],\n",
       "       [0.92323963, 0.91909352, 0.91465558, 0.91941098, 0.0195469 ]])"
      ]
     },
     "execution_count": 22,
     "metadata": {},
     "output_type": "execute_result"
    }
   ],
   "source": [
    "inputs=scaler.transform (df)\n",
    "inputs"
   ]
  },
  {
   "cell_type": "code",
   "execution_count": 23,
   "id": "4829aea6",
   "metadata": {},
   "outputs": [
    {
     "data": {
      "text/plain": [
       "((191, 60, 5), (191,))"
      ]
     },
     "execution_count": 23,
     "metadata": {},
     "output_type": "execute_result"
    }
   ],
   "source": [
    "X_test = []\n",
    "y_test =[]\n",
    "\n",
    "for i in range(60, inputs.shape[0]):\n",
    "    X_test.append(inputs[i-60:i])\n",
    "    y_test.append(inputs[i, 0])\n",
    "    \n",
    "X_test, y_test = np.array(X_test), np.array(y_test)\n",
    "X_test.shape, y_test.shape"
   ]
  },
  {
   "cell_type": "code",
   "execution_count": 24,
   "id": "291512c6",
   "metadata": {},
   "outputs": [],
   "source": [
    "# Identify the predicted values\n",
    "y_pred = regressor.predict(X_test)"
   ]
  },
  {
   "cell_type": "markdown",
   "id": "7e9bc954",
   "metadata": {},
   "source": [
    "### Visualization"
   ]
  },
  {
   "cell_type": "code",
   "execution_count": 25,
   "id": "8bc8dd41",
   "metadata": {},
   "outputs": [
    {
     "data": {
      "image/png": "[encoded data removed]",
      "text/plain": [
       "<Figure size 1008x360 with 1 Axes>"
      ]
     },
     "metadata": {
      "needs_background": "light"
     },
     "output_type": "display_data"
    }
   ],
   "source": [
    "# Visualising the results\n",
    "plt.figure(figsize=(14,5))\n",
    "plt.plot(y_test, color = 'red', label = 'Real Google Stock Price')\n",
    "plt.plot(y_pred, color = 'blue', label = 'Predicted Google Stock Price')\n",
    "plt.title('Google Stock Price Prediction')\n",
    "plt.xlabel('Time')\n",
    "plt.ylabel('Google Stock Price')\n",
    "plt.legend()\n",
    "plt.show()"
   ]
  },
  {
   "cell_type": "code",
   "execution_count": null,
   "id": "2dea68b8",
   "metadata": {},
   "outputs": [],
   "source": []
  }
 ],
 "metadata": {
  "kernelspec": {
   "display_name": "Python 3 (ipykernel)",
   "language": "python",
   "name": "python3"
  },
  "language_info": {
   "codemirror_mode": {
    "name": "ipython",
    "version": 3
   },
   "file_extension": ".py",
   "mimetype": "text/x-python",
   "name": "python",
   "nbconvert_exporter": "python",
   "pygments_lexer": "ipython3",
   "version": "3.9.7"
  }
 },
 "nbformat": 4,
 "nbformat_minor": 5
}
